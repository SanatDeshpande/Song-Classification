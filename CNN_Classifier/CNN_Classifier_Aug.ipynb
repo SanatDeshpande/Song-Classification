{
 "cells": [
  {
   "cell_type": "code",
   "execution_count": 1,
   "metadata": {},
   "outputs": [],
   "source": [
    "import numpy as np\n",
    "import torch\n",
    "import torch.nn as nn\n",
    "from torch import optim\n",
    "import torch.nn.functional as F"
   ]
  },
  {
   "cell_type": "code",
   "execution_count": 2,
   "metadata": {},
   "outputs": [],
   "source": [
    "class Model(nn.Module):\n",
    "    def __init__(self):\n",
    "        super(Model, self).__init__()\n",
    "        self.conv1 = nn.Conv2d(1, 64, kernel_size=(3,3))\n",
    "        self.conv2 = nn.Conv2d(64, 64, kernel_size=(3,5))\n",
    "        self.fc1 = nn.Linear(12544, 32)\n",
    "        self.fc2 = nn.Linear(32, 10)\n",
    "        self.dropout = nn.Dropout(.2)\n",
    "    def forward(self, x):\n",
    "        x = x.view(-1, 1, 64, 256)\n",
    "        x = F.relu(self.conv1(x))\n",
    "        x = self.dropout(x)\n",
    "        x = F.max_pool2d(x, (2,4))\n",
    "        x = F.relu(self.conv2(x))\n",
    "        x = self.dropout(x)\n",
    "        x = F.max_pool2d(x, (2,4))\n",
    "        x = x.view(-1, 12544)\n",
    "        x = F.relu(self.fc1(x))\n",
    "        x = F.relu(self.fc2(x))\n",
    "        return F.softmax(x, dim=1)"
   ]
  },
  {
   "cell_type": "code",
   "execution_count": 3,
   "metadata": {},
   "outputs": [],
   "source": [
    "def assess(model, songs, labels):\n",
    "    model.eval()\n",
    "    correct = 0\n",
    "    total = 0\n",
    "    for i in range(50):\n",
    "        index = np.random.randint(len(labels))\n",
    "        pred = model(songs[index])\n",
    "        if torch.argmax(pred, dim=1) == labels[index]:\n",
    "            correct += 1\n",
    "        total += 1\n",
    "    model.train()\n",
    "    return correct/total"
   ]
  },
  {
   "cell_type": "code",
   "execution_count": 4,
   "metadata": {},
   "outputs": [],
   "source": [
    "with np.load(\"../audio_sr_label.npz\") as f:\n",
    "    data = f['X']\n",
    "    labels = list(f['T'])\n",
    "data = np.asarray([[i[:2560] for i in j] for j in data])\n",
    "seed = data[:, :, :256]\n",
    "for i in range(1, 10):\n",
    "    seed = np.append(seed, data[:, :, i*256:(i+1)*256], axis=0)\n",
    "data = torch.tensor(seed, dtype=torch.float)\n",
    "labels = labels * 10 #expand dimensions accordingly\n",
    "label_set = set(labels)\n",
    "mapping = {}\n",
    "for count, i in enumerate(label_set):\n",
    "    mapping[i] = count\n",
    "targets = np.zeros(len(labels))\n",
    "for i in range(len(targets)):\n",
    "    targets[i] = mapping[labels[i]]\n",
    "targets = torch.tensor(targets, dtype=torch.long)"
   ]
  },
  {
   "cell_type": "code",
   "execution_count": 13,
   "metadata": {},
   "outputs": [],
   "source": [
    "indices = np.random.choice(np.arange(len(targets)), len(targets), replace=False)\n",
    "train_index = indices[int(len(indices)/10):]\n",
    "test_index = indices[:int(len(indices)/10)]\n",
    "\n",
    "labels_train = targets[train_index]\n",
    "labels_test = targets[test_index]\n",
    "data_train = data[train_index]\n",
    "data_test = data[test_index]\n",
    "#double check ^^ above stuff"
   ]
  },
  {
   "cell_type": "code",
   "execution_count": 14,
   "metadata": {},
   "outputs": [],
   "source": [
    "model = Model()\n",
    "optimizer = optim.Adam(list(model.parameters()), lr=1e-5)\n",
    "if torch.cuda.is_available():\n",
    "    model.cuda()\n",
    "    data_train.cuda()\n",
    "    data_test.cuda()\n",
    "    labels_train.cuda()\n",
    "    labels_test.cuda()"
   ]
  },
  {
   "cell_type": "code",
   "execution_count": 22,
   "metadata": {},
   "outputs": [
    {
     "name": "stdout",
     "output_type": "stream",
     "text": [
      "loss:  tensor(2.2845, grad_fn=<NllLossBackward>)\n",
      "0.12 0.1\n",
      "loss:  tensor(2.3126, grad_fn=<NllLossBackward>)\n",
      "0.06 0.18\n",
      "loss:  tensor(2.2606, grad_fn=<NllLossBackward>)\n",
      "0.08 0.16\n",
      "loss:  tensor(2.3214, grad_fn=<NllLossBackward>)\n",
      "0.16 0.1\n",
      "loss:  tensor(2.2854, grad_fn=<NllLossBackward>)\n",
      "0.16 0.12\n",
      "loss:  tensor(2.1667, grad_fn=<NllLossBackward>)\n",
      "0.08 0.2\n",
      "loss:  tensor(2.2946, grad_fn=<NllLossBackward>)\n",
      "0.12 0.2\n",
      "loss:  tensor(2.3211, grad_fn=<NllLossBackward>)\n",
      "0.14 0.06\n",
      "loss:  tensor(2.3170, grad_fn=<NllLossBackward>)\n",
      "0.1 0.12\n",
      "loss:  tensor(2.3055, grad_fn=<NllLossBackward>)\n",
      "0.12 0.12\n",
      "loss:  tensor(2.3074, grad_fn=<NllLossBackward>)\n",
      "0.18 0.06\n",
      "loss:  tensor(2.3070, grad_fn=<NllLossBackward>)\n",
      "0.16 0.1\n",
      "loss:  tensor(2.2733, grad_fn=<NllLossBackward>)\n",
      "0.12 0.04\n",
      "loss:  tensor(2.2957, grad_fn=<NllLossBackward>)\n",
      "0.08 0.08\n",
      "loss:  tensor(2.3026, grad_fn=<NllLossBackward>)\n",
      "0.08 0.08\n",
      "loss:  tensor(2.3177, grad_fn=<NllLossBackward>)\n",
      "0.14 0.08\n",
      "loss:  tensor(2.3108, grad_fn=<NllLossBackward>)\n",
      "0.16 0.12\n",
      "loss:  tensor(2.3079, grad_fn=<NllLossBackward>)\n",
      "0.12 0.12\n",
      "loss:  tensor(2.3591, grad_fn=<NllLossBackward>)\n",
      "0.12 0.1\n",
      "loss:  tensor(2.2922, grad_fn=<NllLossBackward>)\n",
      "0.06 0.1\n",
      "loss:  tensor(2.3026, grad_fn=<NllLossBackward>)\n",
      "0.2 0.08\n",
      "loss:  tensor(2.3163, grad_fn=<NllLossBackward>)\n",
      "0.12 0.22\n",
      "loss:  tensor(2.3372, grad_fn=<NllLossBackward>)\n",
      "0.1 0.12\n",
      "loss:  tensor(2.3068, grad_fn=<NllLossBackward>)\n",
      "0.12 0.12\n",
      "loss:  tensor(2.3045, grad_fn=<NllLossBackward>)\n",
      "0.14 0.08\n",
      "loss:  tensor(2.3073, grad_fn=<NllLossBackward>)\n",
      "0.16 0.16\n",
      "loss:  tensor(2.3064, grad_fn=<NllLossBackward>)\n",
      "0.08 0.16\n",
      "loss:  tensor(2.3076, grad_fn=<NllLossBackward>)\n",
      "0.1 0.06\n",
      "loss:  tensor(2.3071, grad_fn=<NllLossBackward>)\n",
      "0.08 0.14\n",
      "loss:  tensor(2.3053, grad_fn=<NllLossBackward>)\n",
      "0.08 0.14\n"
     ]
    }
   ],
   "source": [
    "training_acc = []\n",
    "validation_acc = []\n",
    "model.train()\n",
    "for epoch in range(30):\n",
    "    for i in range(len(labels_train)):\n",
    "        index = np.random.randint(len(labels_train))\n",
    "        optimizer.zero_grad()\n",
    "        target = labels_train[index]\n",
    "        prediction = model(data_train[index])\n",
    "        criterion = nn.CrossEntropyLoss()\n",
    "        loss = criterion(prediction, target.unsqueeze(0))\n",
    "        loss.backward()\n",
    "        optimizer.step()\n",
    "        if i % 5 == 0:\n",
    "            print(\"loss: \", loss)\n",
    "            if i % 20 == 0:\n",
    "                training_acc.append(assess(model, data_train, labels_train))\n",
    "                validation_acc.append(assess(model, data_test, labels_test))\n",
    "                print(training_acc[-1], validation_acc[-1])\n",
    "                if i % 100 == 0:\n",
    "                    with open(\"training_acc\", \"ab\") as f:\n",
    "                        np.asarray(training_acc).tofile(f)\n",
    "                    with open(\"validation_acc\", \"ab\") as f:\n",
    "                        np.asarray(validation_acc).tofile(f)\n",
    "                    training_acc = []\n",
    "                    validation_acc = []\n",
    "        break\n",
    "    torch.save(model.state_dict(), \"./model\" + str(epoch).zfill(2))"
   ]
  },
  {
   "cell_type": "code",
   "execution_count": 21,
   "metadata": {},
   "outputs": [
    {
     "name": "stdout",
     "output_type": "stream",
     "text": [
      "0.115\n"
     ]
    }
   ],
   "source": [
    "model = Model()\n",
    "model.load_state_dict(torch.load(\"./model\"))\n",
    "model.eval()\n",
    "correct = 0\n",
    "total = 0\n",
    "for x, y in zip(data_test, labels_test):\n",
    "    y_hat = torch.argmax(model(x))\n",
    "    if y_hat == y:\n",
    "        correct += 1\n",
    "    total += 1\n",
    "print(correct / total)"
   ]
  },
  {
   "cell_type": "code",
   "execution_count": null,
   "metadata": {},
   "outputs": [],
   "source": []
  }
 ],
 "metadata": {
  "kernelspec": {
   "display_name": "Python 3",
   "language": "python",
   "name": "python3"
  },
  "language_info": {
   "codemirror_mode": {
    "name": "ipython",
    "version": 3
   },
   "file_extension": ".py",
   "mimetype": "text/x-python",
   "name": "python",
   "nbconvert_exporter": "python",
   "pygments_lexer": "ipython3",
   "version": "3.6.7"
  }
 },
 "nbformat": 4,
 "nbformat_minor": 2
}
