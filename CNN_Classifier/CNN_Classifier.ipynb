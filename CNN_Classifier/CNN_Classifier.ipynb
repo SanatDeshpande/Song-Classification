{
 "cells": [
  {
   "cell_type": "code",
   "execution_count": 97,
   "metadata": {},
   "outputs": [],
   "source": [
    "import numpy as np\n",
    "import torch\n",
    "import torch.nn as nn\n",
    "import torch.nn.functional as F\n",
    "from pydub import AudioSegment as AS\n",
    "from pydub.playback import play\n",
    "import os\n",
    "import json\n",
    "import csv"
   ]
  },
  {
   "cell_type": "code",
   "execution_count": 103,
   "metadata": {},
   "outputs": [
    {
     "name": "stdout",
     "output_type": "stream",
     "text": [
      "46\n",
      "529200\n"
     ]
    }
   ],
   "source": [
    "#prepare dataset\n",
    "def chop_song(songfile, chop):\n",
    "    song = AS.from_mp3(songfile)\n",
    "    song_array = []\n",
    "    for i in range(0, int(len(song)/(chop * 1000))):\n",
    "        raw = song[i*1000*chop:(i+1)*1000*chop].raw_data\n",
    "        song_array.append(list(raw))\n",
    "    return song_array\n",
    "path = \"../low_data/\"\n",
    "files = []\n",
    "for r, d, f in os.walk(path):\n",
    "    paths = [r + \"/\" + i for i in f if i.endswith(\".mp3\")]\n",
    "    files += paths\n",
    "songs_to_label = {}\n",
    "label_to_name = {} #human readability\n",
    "with open(\"../metadata/raw_tracks.csv\") as f:\n",
    "    data = csv.DictReader(f)\n",
    "    for d in data:\n",
    "        try:\n",
    "            genre = json.loads(d[\"track_genres\"].replace(\"\\'\", \"\\\"\"))[0]\n",
    "            songs_to_label[d['track_id']] = genre['genre_id']\n",
    "            human_to_name[genre['genre_id']] = genre['genre_title']\n",
    "        except:\n",
    "            pass\n",
    "\n",
    "songs = []\n",
    "for count, f in enumerate(files):\n",
    "    songs += chop_song(f, 3)\n",
    "    if count > 3:\n",
    "        break\n",
    "print(len(songs))\n",
    "print(len(songs[3]))"
   ]
  },
  {
   "cell_type": "code",
   "execution_count": null,
   "metadata": {},
   "outputs": [],
   "source": []
  },
  {
   "cell_type": "code",
   "execution_count": null,
   "metadata": {},
   "outputs": [],
   "source": []
  }
 ],
 "metadata": {
  "kernelspec": {
   "display_name": "Python 3",
   "language": "python",
   "name": "python3"
  },
  "language_info": {
   "codemirror_mode": {
    "name": "ipython",
    "version": 3
   },
   "file_extension": ".py",
   "mimetype": "text/x-python",
   "name": "python",
   "nbconvert_exporter": "python",
   "pygments_lexer": "ipython3",
   "version": "3.6.7"
  }
 },
 "nbformat": 4,
 "nbformat_minor": 2
}
