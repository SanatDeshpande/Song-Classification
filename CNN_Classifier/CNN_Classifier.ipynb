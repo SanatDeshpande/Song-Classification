{
 "cells": [
  {
   "cell_type": "code",
   "execution_count": 1,
   "metadata": {},
   "outputs": [],
   "source": [
    "import numpy as np\n",
    "import torch\n",
    "import torch.nn as nn\n",
    "import torch.nn.functional as F\n",
    "from pydub import AudioSegment as AS\n",
    "from pydub.playback import play\n",
    "import os\n",
    "import json\n",
    "import csv"
   ]
  },
  {
   "cell_type": "code",
   "execution_count": 52,
   "metadata": {},
   "outputs": [],
   "source": [
    "#prepare training data\n",
    "def chop_and_label(songfile, labels_to_one_hot, songs_to_label, chop):\n",
    "    track_id = int(songfile.split(\"/\")[-1].split(\".\")[0])\n",
    "    song = AS.from_mp3(songfile)\n",
    "    song_array = []\n",
    "    label_array = []\n",
    "    for i in range(0, int(len(song)/(chop * 1000))):\n",
    "        raw = song[i*1000*chop:(i+1)*1000*chop].raw_data\n",
    "        song_array.append(list(raw))\n",
    "        genre_label = songs_to_label[track_id]\n",
    "        label_array.append(labels_to_one_hot[genre_label])\n",
    "    return song_array, label_array\n",
    "\n",
    "songs_to_label = {}\n",
    "label_to_name = {} #human readability\n",
    "labels = set([])\n",
    "with open(\"../metadata/raw_tracks.csv\") as f:\n",
    "    data = csv.DictReader(f)\n",
    "    for d in data:\n",
    "        try:\n",
    "            genre = json.loads(d[\"track_genres\"].replace(\"\\'\", \"\\\"\"))[0]\n",
    "        except:\n",
    "            continue\n",
    "        songs_to_label[int(d['track_id'])] = int(genre['genre_id'])\n",
    "        label_to_name[int(genre['genre_id'])] = genre['genre_title']\n",
    "        labels.add(int(genre['genre_id']))\n",
    "\n",
    "#songs to one_hot labels\n",
    "labels_to_one_hot = {}\n",
    "for count, i in enumerate(labels):\n",
    "    one_hot = np.zeros(len(labels))\n",
    "    one_hot[count] = 1\n",
    "    labels_to_one_hot[i] = one_hot\n",
    "    \n",
    "path = \"../low_data/\"\n",
    "files = []\n",
    "for r, d, f in os.walk(path):\n",
    "    paths = [r + \"/\" + i for i in f if i.endswith(\".mp3\")]\n",
    "    files += paths\n",
    "songs = []\n",
    "targets = []\n",
    "for count, f in enumerate(files):\n",
    "    s, t = chop_and_label(f, labels_to_one_hot, songs_to_label, 3)\n",
    "    songs += s\n",
    "    targets += t\n",
    "    if count > 30:\n",
    "        break\n",
    "\n"
   ]
  },
  {
   "cell_type": "code",
   "execution_count": 60,
   "metadata": {},
   "outputs": [
    {
     "name": "stdout",
     "output_type": "stream",
     "text": [
      "Folk\n"
     ]
    }
   ],
   "source": [
    "rand = np.random.randint(len(songs))\n",
    "for count, s in enumerate(labels):\n",
    "    if count == np.argmax(targets[rand]):\n",
    "        print(label_to_name[s])\n",
    "test_song = AS(data=bytes(songs[rand]), sample_width=2, frame_rate=17000, channels=1)\n",
    "play(test_song)"
   ]
  },
  {
   "cell_type": "code",
   "execution_count": null,
   "metadata": {},
   "outputs": [],
   "source": []
  }
 ],
 "metadata": {
  "kernelspec": {
   "display_name": "Python 3",
   "language": "python",
   "name": "python3"
  },
  "language_info": {
   "codemirror_mode": {
    "name": "ipython",
    "version": 3
   },
   "file_extension": ".py",
   "mimetype": "text/x-python",
   "name": "python",
   "nbconvert_exporter": "python",
   "pygments_lexer": "ipython3",
   "version": "3.6.7"
  }
 },
 "nbformat": 4,
 "nbformat_minor": 2
}
