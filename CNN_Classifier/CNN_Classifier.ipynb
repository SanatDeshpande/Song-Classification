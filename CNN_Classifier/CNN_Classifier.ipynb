{
 "cells": [
  {
   "cell_type": "code",
   "execution_count": 1,
   "metadata": {},
   "outputs": [],
   "source": [
    "import numpy as np\n",
    "import torch\n",
    "import torch.nn as nn\n",
    "from torch import optim\n",
    "import torch.nn.functional as F\n",
    "from pydub import AudioSegment as AS\n",
    "from pydub.playback import play\n",
    "import os\n",
    "import pickle\n",
    "import csv"
   ]
  },
  {
   "cell_type": "code",
   "execution_count": 2,
   "metadata": {},
   "outputs": [],
   "source": [
    "with open(\"../songs.data\", \"rb\") as f:\n",
    "    songs = np.fromfile(f)\n",
    "with open(\"../labels.data\", \"rb\") as f:\n",
    "    labels = np.fromfile(f)\n",
    "label_set = set([])\n",
    "mapping = {}\n",
    "for i in labels:\n",
    "    label_set.add(i)\n",
    "for count, i in enumerate(label_set):\n",
    "    mapping[i] = count\n",
    "new_labels = np.zeros((len(labels)))\n",
    "for i in range(len(new_labels)):\n",
    "    new_labels[i] = mapping[labels[i]]\n",
    "songs = torch.tensor(songs.reshape(-1, 96000), dtype=torch.float)\n",
    "songs_train = songs[:int(-1*len(songs)/10)]\n",
    "songs_test = songs[int(-1*len(songs)/10):]\n",
    "labels = new_labels\n",
    "labels = torch.tensor(labels.reshape(labels.shape[0], -1), dtype=torch.long)\n",
    "labels_train = labels[:int(-1*len(labels)/10)]\n",
    "labels_test = labels[int(-1*len(labels)/10):]\n"
   ]
  },
  {
   "cell_type": "code",
   "execution_count": 3,
   "metadata": {},
   "outputs": [
    {
     "name": "stdout",
     "output_type": "stream",
     "text": [
      "torch.Size([28855, 1])\n"
     ]
    }
   ],
   "source": [
    "print(labels_train.shape)"
   ]
  },
  {
   "cell_type": "code",
   "execution_count": 4,
   "metadata": {},
   "outputs": [],
   "source": [
    "class Model(nn.Module):\n",
    "    def __init__(self, input_size, output_size):\n",
    "        super(Model, self).__init__()\n",
    "        self.input_size = input_size\n",
    "        self.output_size = output_size\n",
    "        self.conv1 = nn.Conv1d(1, 40, kernel_size=8000)\n",
    "        self.conv2 = nn.Conv1d(40, 20, kernel_size=200)\n",
    "        self.conv3 = nn.Conv1d(20, 10, kernel_size=200)\n",
    "        self.fc1 = nn.Linear(660, 400)\n",
    "        self.fc2 = nn.Linear(400, 200)\n",
    "        self.fc3 = nn.Linear(200, 50)\n",
    "        self.fc4 = nn.Linear(50, output_size)\n",
    "    def forward(self, x):\n",
    "        x = x.view(-1, 1, x.shape[0])\n",
    "        #print(x.shape)\n",
    "        x = F.relu(self.conv1(x))\n",
    "        #print(x.shape)\n",
    "        x = F.max_pool1d(x, 10)\n",
    "        #print(x.shape)\n",
    "        x = F.relu(self.conv2(x))\n",
    "        #print(x.shape)\n",
    "        x = F.max_pool1d(x, 10)\n",
    "        #print(x.shape)\n",
    "        x = F.relu(self.conv3(x))\n",
    "        #print(x.shape)\n",
    "        x = F.max_pool1d(x, 10)\n",
    "        #print(x.shape)\n",
    "        x = x.view(-1, 660)\n",
    "        x = F.relu(self.fc1(x))\n",
    "        #print(x.shape)\n",
    "        x = F.relu(self.fc2(x))\n",
    "        #print(x.shape)\n",
    "        x = F.relu(self.fc3(x))\n",
    "        #print(x.shape)\n",
    "        x = F.relu(self.fc4(x))\n",
    "        #print(x.shape)\n",
    "        x = x.view(-1, self.output_size)\n",
    "        #print(x.shape)\n",
    "        return F.log_softmax(x, dim=1)"
   ]
  },
  {
   "cell_type": "code",
   "execution_count": null,
   "metadata": {},
   "outputs": [],
   "source": [
    "model = Model(songs.shape[1], len(label_set))\n",
    "optimizer = optim.Adam(list(model.parameters()), lr=1e-3)\n",
    "if torch.cuda.is_available():\n",
    "    model.cuda()\n",
    "    songs_train.cuda()\n",
    "    songs_test.cuda()\n",
    "    labels_train.cuda()\n",
    "    labels_test.cuda()"
   ]
  },
  {
   "cell_type": "code",
   "execution_count": null,
   "metadata": {},
   "outputs": [],
   "source": [
    "def assess(model, songs, labels):\n",
    "    model.eval()\n",
    "    correct = 0\n",
    "    total = 0\n",
    "    for i in range(5):\n",
    "        index = np.random.randint(len(labels))\n",
    "        pred = model(songs[index])\n",
    "        if torch.argmax(pred, dim=1) == labels[index]:\n",
    "            correct += 1\n",
    "        total += 1\n",
    "    return correct/total"
   ]
  },
  {
   "cell_type": "code",
   "execution_count": null,
   "metadata": {},
   "outputs": [
    {
     "name": "stdout",
     "output_type": "stream",
     "text": [
      "loss:  tensor(3.0987, grad_fn=<NllLossBackward>)\n"
     ]
    }
   ],
   "source": [
    "training_acc = []\n",
    "validation_acc = []\n",
    "for epoch in range(1):\n",
    "    for i in range(len(labels_train)):\n",
    "        model.train()\n",
    "        optimizer.zero_grad()\n",
    "        target = labels_train[i]\n",
    "        prediction = model(songs_train[i])\n",
    "        loss = F.nll_loss(prediction, target)\n",
    "        loss.backward()\n",
    "        optimizer.step()\n",
    "        if i % 5 == 0:\n",
    "            print(\"loss: \", loss)\n",
    "            if i % 20 == 0:\n",
    "                training_acc.append(assess(model, songs_train, labels_train))\n",
    "                validation_acc.append(assess(model, songs_test, labels_test))\n",
    "                print(training_acc[-1], validation_acc[-1])\n",
    "                "
   ]
  },
  {
   "cell_type": "code",
   "execution_count": null,
   "metadata": {},
   "outputs": [],
   "source": []
  },
  {
   "cell_type": "code",
   "execution_count": null,
   "metadata": {},
   "outputs": [],
   "source": []
  }
 ],
 "metadata": {
  "kernelspec": {
   "display_name": "Python 3",
   "language": "python",
   "name": "python3"
  },
  "language_info": {
   "codemirror_mode": {
    "name": "ipython",
    "version": 3
   },
   "file_extension": ".py",
   "mimetype": "text/x-python",
   "name": "python",
   "nbconvert_exporter": "python",
   "pygments_lexer": "ipython3",
   "version": "3.6.7"
  }
 },
 "nbformat": 4,
 "nbformat_minor": 2
}
