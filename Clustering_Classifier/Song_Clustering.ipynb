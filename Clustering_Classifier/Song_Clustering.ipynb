{
 "cells": [
  {
   "cell_type": "code",
   "execution_count": 7,
   "metadata": {},
   "outputs": [],
   "source": [
    "import numpy as np\n",
    "import torch\n",
    "import torch.nn as nn\n",
    "from torch import optim\n",
    "import torch.nn.functional as F\n",
    "from torch.utils.data import Dataset, DataLoader\n",
    "torch.set_default_tensor_type(torch.cuda.FloatTensor if torch.cuda.is_available() else torch.FloatTensor)"
   ]
  },
  {
   "cell_type": "code",
   "execution_count": 2,
   "metadata": {},
   "outputs": [],
   "source": [
    "class Model(nn.Module):\n",
    "    def __init__(self):\n",
    "        super(Model, self).__init__()\n",
    "        self.conv1 = nn.Conv2d(1, 64, kernel_size=(3,3))\n",
    "        self.conv2 = nn.Conv2d(64, 64, kernel_size=(3,5))\n",
    "        self.fc1 = nn.Linear(12544, 32)\n",
    "        self.fc2 = nn.Linear(32, 10)\n",
    "        self.dropout = nn.Dropout(.2)\n",
    "    def forward(self, x):\n",
    "        x = x.view(-1, 1, 64, 256)\n",
    "        x = F.relu(self.conv1(x))\n",
    "        x = self.dropout(x)\n",
    "        x = F.max_pool2d(x, (2,4))\n",
    "        x = F.relu(self.conv2(x))\n",
    "        x = self.dropout(x)\n",
    "        x = F.max_pool2d(x, (2,4))\n",
    "        x = x.view(-1, 12544)\n",
    "        x = F.relu(self.fc1(x))\n",
    "        x = self.dropout(x)\n",
    "        x = F.relu(self.fc2(x))\n",
    "        return F.softmax(x, dim=1)"
   ]
  },
  {
   "cell_type": "code",
   "execution_count": 13,
   "metadata": {},
   "outputs": [],
   "source": [
    "class SongData(Dataset):\n",
    "    def __init__(self, path):\n",
    "        with np.load(path) as f:\n",
    "            data = f['X']\n",
    "            labels = list(f['T'])\n",
    "        data = np.asarray([[i[:2560] for i in j] for j in data])\n",
    "        seed = data[:, :, :256]\n",
    "        for i in range(1, 10):\n",
    "            seed = np.append(seed, data[:, :, i*256:(i+1)*256], axis=0)\n",
    "        self.data = torch.tensor(seed, dtype=torch.float)\n",
    "        labels = labels * 10 #expand dimensions accordingly\n",
    "        label_set = set(labels)\n",
    "        mapping = {}\n",
    "        for count, i in enumerate(label_set):\n",
    "            mapping[i] = count\n",
    "        targets = np.zeros(len(labels))\n",
    "        for i in range(len(targets)):\n",
    "            targets[i] = mapping[labels[i]]\n",
    "        self.targets = torch.tensor(targets, dtype=torch.long)\n",
    "    def __getitem__(self, index):\n",
    "        return (self.data[index], self.targets[index])\n",
    "    def __len__(self):\n",
    "        return (len(self.targets))"
   ]
  },
  {
   "cell_type": "code",
   "execution_count": 24,
   "metadata": {},
   "outputs": [],
   "source": [
    "dataset = SongData(\"../audio_sr_label.npz\")\n",
    "dataloader = DataLoader(dataset, shuffle=True, batch_size=2)"
   ]
  },
  {
   "cell_type": "code",
   "execution_count": null,
   "metadata": {},
   "outputs": [],
   "source": []
  }
 ],
 "metadata": {
  "kernelspec": {
   "display_name": "Python 3",
   "language": "python",
   "name": "python3"
  },
  "language_info": {
   "codemirror_mode": {
    "name": "ipython",
    "version": 3
   },
   "file_extension": ".py",
   "mimetype": "text/x-python",
   "name": "python",
   "nbconvert_exporter": "python",
   "pygments_lexer": "ipython3",
   "version": "3.6.7"
  }
 },
 "nbformat": 4,
 "nbformat_minor": 2
}
