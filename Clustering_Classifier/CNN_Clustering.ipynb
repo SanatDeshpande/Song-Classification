{
 "cells": [
  {
   "cell_type": "code",
   "execution_count": 1,
   "metadata": {},
   "outputs": [
    {
     "name": "stdout",
     "output_type": "stream",
     "text": [
      "True\n"
     ]
    }
   ],
   "source": [
    "import numpy as np\n",
    "import torch\n",
    "import torch.nn as nn\n",
    "from torch import optim\n",
    "import torch.nn.functional as F\n",
    "import matplotlib.pyplot as plt\n",
    "torch.set_default_tensor_type(torch.cuda.FloatTensor if torch.cuda.is_available() else torch.FloatTensor)\n",
    "print(torch.cuda.is_available())"
   ]
  },
  {
   "cell_type": "code",
   "execution_count": 9,
   "metadata": {},
   "outputs": [],
   "source": [
    "class Encoder(nn.Module):\n",
    "    def __init__(self):\n",
    "        super(Encoder, self).__init__()\n",
    "        self.conv1 = nn.Conv2d(1, 6, kernel_size=(5, 5))\n",
    "        self.conv2 = nn.Conv2d(6, 16, kernel_size=(5, 5))\n",
    "        self.conv3 = nn.Conv2d(16, 60, kernel_size=(4, 4))\n",
    "        \n",
    "        self.bn1 = nn.BatchNorm2d(6)\n",
    "        self.bn2 = nn.BatchNorm2d(16)\n",
    "        self.bn3 = nn.BatchNorm2d(60)\n",
    "    def forward(self, x):\n",
    "        x = x.view(-1, 1, 28, 28)\n",
    "        x = F.relu(F.max_pool2d(self.conv1(x), 2))\n",
    "        x = self.bn1(x)\n",
    "        x = F.relu(F.max_pool2d(self.conv2(x), 2))\n",
    "        x = self.bn2(x)\n",
    "        x = F.relu(self.conv3(x))\n",
    "        #x = self.bn3(x)\n",
    "        return x\n",
    "class Decoder(nn.Module):\n",
    "    def __init__(self):\n",
    "        super(Decoder, self).__init__()\n",
    "        self.deconv1 = nn.ConvTranspose2d(60, 16, kernel_size=(4, 4))\n",
    "        self.deconv2 = nn.ConvTranspose2d(16, 16, kernel_size=(5, 5))\n",
    "        self.deconv3 = nn.ConvTranspose2d(16, 6, kernel_size=(5, 5))\n",
    "        self.deconv4 = nn.ConvTranspose2d(6, 6, kernel_size=(13, 13))\n",
    "        self.deconv5 = nn.ConvTranspose2d(6, 1, kernel_size=(5, 5))\n",
    "        \n",
    "        self.bn1 = nn.BatchNorm2d(16)\n",
    "        self.bn2 = nn.BatchNorm2d(6)\n",
    "    def forward(self, x):\n",
    "        x = F.relu(self.deconv1(x))\n",
    "        x = self.bn1(x)\n",
    "        x = F.relu(self.deconv2(x))\n",
    "        x = self.bn1(x)\n",
    "        x = F.relu(self.deconv3(x))\n",
    "        x = self.bn2(x)\n",
    "        x = F.relu(self.deconv4(x))\n",
    "        x = self.bn2(x)\n",
    "        x = F.relu(self.deconv5(x))\n",
    "        return F.sigmoid(x)"
   ]
  },
  {
   "cell_type": "code",
   "execution_count": 10,
   "metadata": {},
   "outputs": [],
   "source": [
    "def assess(model, data, labels):\n",
    "    total, correct = 0.0, 0.0\n",
    "    for x, y, in zip(data, labels):\n",
    "        if torch.argmax(model(x)) == y:\n",
    "            correct += 1\n",
    "        total += 1\n",
    "    return correct / total"
   ]
  },
  {
   "cell_type": "code",
   "execution_count": 11,
   "metadata": {},
   "outputs": [],
   "source": [
    "data_train = np.fromfile(\"MNIST/images_train\", dtype=np.ubyte).reshape(-1, 28, 28).astype(np.float)\n",
    "labels_train = np.fromfile(\"MNIST/labels_train\", dtype=np.ubyte)\n",
    "data_test = np.fromfile(\"MNIST/images_test\", dtype=np.ubyte).reshape(-1, 28, 28).astype(np.float)\n",
    "labels_test = np.fromfile(\"MNIST/labels_test\", dtype=np.ubyte)\n",
    "\n",
    "indices = np.random.choice(np.arange(len(labels_train)), len(labels_train), replace=False)\n",
    "data_train = data_train[indices]\n",
    "labels_train = labels_train[indices]\n",
    "\n",
    "data_train = torch.tensor(data_train, dtype=torch.float) / 255\n",
    "data_test = torch.tensor(data_test, dtype=torch.float) / 255\n",
    "labels_train = torch.tensor(labels_train, dtype=torch.long).unsqueeze(1)\n",
    "labels_test = torch.tensor(labels_test, dtype=torch.long).unsqueeze(1)\n",
    "#plt.imshow(data_train[34], cmap='gray')"
   ]
  },
  {
   "cell_type": "code",
   "execution_count": 12,
   "metadata": {},
   "outputs": [],
   "source": [
    "encoder = Encoder()\n",
    "decoder = Decoder()\n",
    "optimizer = optim.Adam(list(encoder.parameters()) + list(decoder.parameters()), lr=1e-3)"
   ]
  },
  {
   "cell_type": "code",
   "execution_count": 13,
   "metadata": {},
   "outputs": [
    {
     "name": "stdout",
     "output_type": "stream",
     "text": [
      "torch.Size([1, 16, 8, 8])\n"
     ]
    },
    {
     "name": "stderr",
     "output_type": "stream",
     "text": [
      "/home/ubuntu/anaconda3/envs/pytorch_p36/lib/python3.6/site-packages/torch/nn/functional.py:2038: UserWarning: nn.functional.upsample_bilinear is deprecated. Use nn.functional.interpolate instead.\n",
      "  warnings.warn(\"nn.functional.upsample_bilinear is deprecated. Use nn.functional.interpolate instead.\")\n",
      "/home/ubuntu/anaconda3/envs/pytorch_p36/lib/python3.6/site-packages/torch/nn/functional.py:1006: UserWarning: nn.functional.sigmoid is deprecated. Use torch.sigmoid instead.\n",
      "  warnings.warn(\"nn.functional.sigmoid is deprecated. Use torch.sigmoid instead.\")\n"
     ]
    },
    {
     "ename": "RuntimeError",
     "evalue": "invalid argument 2: size '[-1 x 28 x 28]' is invalid for input with 1024 elements at /opt/conda/conda-bld/pytorch_1532579245307/work/aten/src/TH/THStorage.cpp:80",
     "output_type": "error",
     "traceback": [
      "\u001b[0;31m---------------------------------------------------------------------------\u001b[0m",
      "\u001b[0;31mRuntimeError\u001b[0m                              Traceback (most recent call last)",
      "\u001b[0;32m<ipython-input-13-507391456436>\u001b[0m in \u001b[0;36m<module>\u001b[0;34m()\u001b[0m\n\u001b[1;32m      8\u001b[0m         \u001b[0my\u001b[0m \u001b[0;34m=\u001b[0m \u001b[0mdecoder\u001b[0m\u001b[0;34m(\u001b[0m\u001b[0mz\u001b[0m\u001b[0;34m)\u001b[0m\u001b[0;34m\u001b[0m\u001b[0m\n\u001b[1;32m      9\u001b[0m         \u001b[0mcriterion\u001b[0m \u001b[0;34m=\u001b[0m \u001b[0mnn\u001b[0m\u001b[0;34m.\u001b[0m\u001b[0mBCELoss\u001b[0m\u001b[0;34m(\u001b[0m\u001b[0;34m)\u001b[0m\u001b[0;34m\u001b[0m\u001b[0m\n\u001b[0;32m---> 10\u001b[0;31m         \u001b[0mloss\u001b[0m \u001b[0;34m=\u001b[0m \u001b[0mcriterion\u001b[0m\u001b[0;34m(\u001b[0m\u001b[0my\u001b[0m\u001b[0;34m.\u001b[0m\u001b[0mview\u001b[0m\u001b[0;34m(\u001b[0m\u001b[0;34m-\u001b[0m\u001b[0;36m1\u001b[0m\u001b[0;34m,\u001b[0m \u001b[0;36m28\u001b[0m\u001b[0;34m,\u001b[0m \u001b[0;36m28\u001b[0m\u001b[0;34m)\u001b[0m\u001b[0;34m,\u001b[0m \u001b[0mx\u001b[0m\u001b[0;34m.\u001b[0m\u001b[0mview\u001b[0m\u001b[0;34m(\u001b[0m\u001b[0;34m-\u001b[0m\u001b[0;36m1\u001b[0m\u001b[0;34m,\u001b[0m \u001b[0;36m28\u001b[0m\u001b[0;34m,\u001b[0m \u001b[0;36m28\u001b[0m\u001b[0;34m)\u001b[0m\u001b[0;34m)\u001b[0m\u001b[0;34m\u001b[0m\u001b[0m\n\u001b[0m\u001b[1;32m     11\u001b[0m         \u001b[0mloss\u001b[0m\u001b[0;34m.\u001b[0m\u001b[0mbackward\u001b[0m\u001b[0;34m(\u001b[0m\u001b[0;34m)\u001b[0m\u001b[0;34m\u001b[0m\u001b[0m\n\u001b[1;32m     12\u001b[0m         \u001b[0moptimizer\u001b[0m\u001b[0;34m.\u001b[0m\u001b[0mstep\u001b[0m\u001b[0;34m(\u001b[0m\u001b[0;34m)\u001b[0m\u001b[0;34m\u001b[0m\u001b[0m\n",
      "\u001b[0;31mRuntimeError\u001b[0m: invalid argument 2: size '[-1 x 28 x 28]' is invalid for input with 1024 elements at /opt/conda/conda-bld/pytorch_1532579245307/work/aten/src/TH/THStorage.cpp:80"
     ]
    }
   ],
   "source": [
    "epochs = 10\n",
    "encoder.train()\n",
    "decoder.train()\n",
    "for epoch in range(epochs):\n",
    "    for count, x in enumerate(data_train):\n",
    "        optimizer.zero_grad()\n",
    "        z = encoder(x)\n",
    "        y = decoder(z)\n",
    "        criterion = nn.BCELoss()\n",
    "        loss = criterion(y.view(-1, 28, 28), x.view(-1, 28, 28))\n",
    "        loss.backward()\n",
    "        optimizer.step() \n",
    "        if count % 1000 == 0:\n",
    "            print(loss)\n",
    "            index = np.random.randint(len(data_test))\n",
    "            encoder.eval()\n",
    "            decoder.eval()\n",
    "            z = encoder(data_test[index])\n",
    "            y = decoder(z)\n",
    "            y_vis = y.detach().cpu().numpy().reshape(28,28)\n",
    "            x_vis = data_test[index].cpu().numpy()\n",
    "\n",
    "            encoder.train()\n",
    "            decoder.train()\n",
    "\n",
    "            fig = plt.figure(figsize=(28,28))\n",
    "            fig.add_subplot(1, 2, 1)\n",
    "            plt.imshow(x_vis, cmap='gray')\n",
    "            fig.add_subplot(1, 2, 2)\n",
    "            plt.imshow(y_vis, cmap='gray')\n",
    "            plt.show()\n",
    "    torch.save(encoder.state_dict(), \"encoder\")\n",
    "    torch.save(decoder.state_dict(), \"decoder\")"
   ]
  },
  {
   "cell_type": "code",
   "execution_count": null,
   "metadata": {},
   "outputs": [],
   "source": []
  }
 ],
 "metadata": {
  "kernelspec": {
   "display_name": "Python 3",
   "language": "python",
   "name": "python3"
  },
  "language_info": {
   "codemirror_mode": {
    "name": "ipython",
    "version": 3
   },
   "file_extension": ".py",
   "mimetype": "text/x-python",
   "name": "python",
   "nbconvert_exporter": "python",
   "pygments_lexer": "ipython3",
   "version": "3.6.5"
  }
 },
 "nbformat": 4,
 "nbformat_minor": 2
}
